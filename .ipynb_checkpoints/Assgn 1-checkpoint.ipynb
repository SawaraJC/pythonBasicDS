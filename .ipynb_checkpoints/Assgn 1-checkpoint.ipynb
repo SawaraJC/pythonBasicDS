{
 "cells": [
  {
   "cell_type": "markdown",
   "id": "e3774458",
   "metadata": {},
   "source": [
    "1] There are N children standing in a line with some rating value. You want to distribute minimum number of candies to these children such that each child must have at least one candy and the children with higher rating will have more candies than his neighbour. (Greedy) Write a program to calculate the minimum candies you must give. Problem Note • Input: An array arr[] of N integers representing the ratings of each student Example 1 Input: arr[] = [1, 2, 2] Output: 4 Explanation: You can distribute to the first, second and third child 1, 2 and 1 candies respectively. The third child gets 1 candy because it satisfies the above two conditions. Example 2 Input: arr[] = [1, 5, 2, 1] Output: 7 Explanation: Candies given = [1, 3, 2, 1] \n",
    "\n",
    "2] Discuss any approximation algorithm (which is not insyllabus) to solve a selected problem. \n",
    "\n",
    "3] Discuss the concept of tractable and non- tractable problems."
   ]
  },
  {
   "cell_type": "code",
   "execution_count": 1,
   "id": "cffc63f3",
   "metadata": {},
   "outputs": [],
   "source": [
    "import random\n",
    "import time"
   ]
  },
  {
   "cell_type": "code",
   "execution_count": 2,
   "id": "af4b79e1",
   "metadata": {},
   "outputs": [],
   "source": [
    "def greedyCount(arr, n):\n",
    "    sum = 0\n",
    "    ans = [1]*n\n",
    "    \n",
    "    if n==1:\n",
    "        return 1\n",
    "    \n",
    "    for i in range(n-1):\n",
    "        if arr[i+1]>arr[i]:\n",
    "            ans[i+1] = ans[i]+1\n",
    "            \n",
    "    for i in range(n-2, -1, -1):\n",
    "        if arr[i]>arr[i+1] and ans[i]<=ans[i+1]:\n",
    "            ans[i] = ans[i+1] + 1\n",
    "            \n",
    "        sum += ans[i]\n",
    "    \n",
    "    sum += ans[n-1]\n",
    "    \n",
    "    return sum\n",
    "\n",
    "arr_data = [random.randint(1,100) for _ in range(5000)]\n",
    "# print(arr_data)\n",
    "# arr = [arr_data.copy()]"
   ]
  },
  {
   "cell_type": "code",
   "execution_count": 8,
   "id": "46f07d63",
   "metadata": {},
   "outputs": [
    {
     "name": "stdout",
     "output_type": "stream",
     "text": [
      "Min candies for greedy approach:  10052\n",
      "0.0044553279876708984\n"
     ]
    }
   ],
   "source": [
    "start = time.time()\n",
    "print(\"Min candies for greedy approach: \", greedyCount(arr_data, len(arr_data)))\n",
    "end = time.time()\n",
    "\n",
    "print(end - start)"
   ]
  },
  {
   "cell_type": "code",
   "execution_count": 6,
   "id": "b9bbd22b",
   "metadata": {},
   "outputs": [],
   "source": [
    "def brute(arr):\n",
    "    n = len(arr)\n",
    "    min_candies = float('inf')\n",
    "    \n",
    "    for distribution in range(1, 2**n):\n",
    "        candies = [1]*n\n",
    "        \n",
    "        for i in range(1, n):\n",
    "            if((distribution >> i) & 1) and arr[i] > arr[i-1]:\n",
    "                candies[i] = candies[i-1] + 1\n",
    "                \n",
    "        if all(arr[i] <= arr[i+1] or candies[i]>candies[i+1] for i in range(n-1)):\n",
    "            min_candies = min(min_candies, sum(candies))\n",
    "            \n",
    "    return min_candies\n",
    "\n",
    "brute_data = [random.randint(1,100) for _ in range(10)]"
   ]
  },
  {
   "cell_type": "code",
   "execution_count": 11,
   "id": "f860c306",
   "metadata": {},
   "outputs": [
    {
     "name": "stdout",
     "output_type": "stream",
     "text": [
      "Min candies for brute approach:  14\n",
      "0.006934404373168945\n"
     ]
    }
   ],
   "source": [
    "brute_start = time.time()\n",
    "print(\"Min candies for brute approach: \",brute(brute_data))\n",
    "brute_end = time.time()\n",
    "\n",
    "print(brute_end - brute_start)"
   ]
  },
  {
   "cell_type": "code",
   "execution_count": null,
   "id": "286309ae",
   "metadata": {},
   "outputs": [],
   "source": []
  }
 ],
 "metadata": {
  "kernelspec": {
   "display_name": "Python 3 (ipykernel)",
   "language": "python",
   "name": "python3"
  },
  "language_info": {
   "codemirror_mode": {
    "name": "ipython",
    "version": 3
   },
   "file_extension": ".py",
   "mimetype": "text/x-python",
   "name": "python",
   "nbconvert_exporter": "python",
   "pygments_lexer": "ipython3",
   "version": "3.9.7"
  }
 },
 "nbformat": 4,
 "nbformat_minor": 5
}
