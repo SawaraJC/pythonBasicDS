{
 "cells": [
  {
   "cell_type": "markdown",
   "id": "9c6dd2ca",
   "metadata": {},
   "source": [
    "Queue"
   ]
  },
  {
   "cell_type": "code",
   "execution_count": 3,
   "id": "4e7d76aa",
   "metadata": {},
   "outputs": [],
   "source": [
    "from collections import deque\n"
   ]
  },
  {
   "cell_type": "code",
   "execution_count": 4,
   "id": "bb73372c",
   "metadata": {},
   "outputs": [],
   "source": [
    "queue = deque()"
   ]
  },
  {
   "cell_type": "code",
   "execution_count": 8,
   "id": "052c784d",
   "metadata": {},
   "outputs": [],
   "source": [
    "queue.append(2)\n",
    "queue.append(22)\n",
    "queue.append(3)\n",
    "queue.append(6)\n",
    "queue.append(90)"
   ]
  },
  {
   "cell_type": "code",
   "execution_count": 9,
   "id": "9dbe9d9d",
   "metadata": {},
   "outputs": [
    {
     "name": "stdout",
     "output_type": "stream",
     "text": [
      "2\n",
      "2\n",
      "2\n",
      "2\n",
      "2\n",
      "2\n",
      "2\n",
      "22\n",
      "3\n",
      "6\n",
      "90\n"
     ]
    }
   ],
   "source": [
    "for i in queue:\n",
    "    print(i)"
   ]
  },
  {
   "cell_type": "code",
   "execution_count": 10,
   "id": "d95b6aea",
   "metadata": {},
   "outputs": [
    {
     "data": {
      "text/plain": [
       "2"
      ]
     },
     "execution_count": 10,
     "metadata": {},
     "output_type": "execute_result"
    }
   ],
   "source": [
    "queue.popleft()"
   ]
  },
  {
   "cell_type": "code",
   "execution_count": 11,
   "id": "8ec9bb10",
   "metadata": {},
   "outputs": [
    {
     "data": {
      "text/plain": [
       "2"
      ]
     },
     "execution_count": 11,
     "metadata": {},
     "output_type": "execute_result"
    }
   ],
   "source": [
    "queue.popleft()\n",
    "queue.popleft()"
   ]
  },
  {
   "cell_type": "code",
   "execution_count": 12,
   "id": "a0f61789",
   "metadata": {},
   "outputs": [
    {
     "name": "stdout",
     "output_type": "stream",
     "text": [
      "2\n",
      "2\n",
      "2\n",
      "2\n",
      "22\n",
      "3\n",
      "6\n",
      "90\n"
     ]
    }
   ],
   "source": [
    "for i in queue:\n",
    "    print(i)"
   ]
  },
  {
   "cell_type": "code",
   "execution_count": 13,
   "id": "be167cde",
   "metadata": {},
   "outputs": [
    {
     "data": {
      "text/plain": [
       "2"
      ]
     },
     "execution_count": 13,
     "metadata": {},
     "output_type": "execute_result"
    }
   ],
   "source": [
    "queue.popleft()\n",
    "queue.popleft()\n",
    "queue.popleft()"
   ]
  },
  {
   "cell_type": "code",
   "execution_count": 14,
   "id": "fc86cb41",
   "metadata": {},
   "outputs": [
    {
     "name": "stdout",
     "output_type": "stream",
     "text": [
      "2\n",
      "22\n",
      "3\n",
      "6\n",
      "90\n"
     ]
    }
   ],
   "source": [
    "for i in queue:\n",
    "    print(i)"
   ]
  },
  {
   "cell_type": "code",
   "execution_count": 15,
   "id": "6b9da4d0",
   "metadata": {},
   "outputs": [],
   "source": [
    "queue.append(34)"
   ]
  },
  {
   "cell_type": "code",
   "execution_count": 16,
   "id": "2f6589cf",
   "metadata": {},
   "outputs": [
    {
     "name": "stdout",
     "output_type": "stream",
     "text": [
      "deque([2, 22, 3, 6, 90, 34])\n"
     ]
    }
   ],
   "source": [
    "print(queue)"
   ]
  },
  {
   "cell_type": "markdown",
   "id": "8f771f6d",
   "metadata": {},
   "source": [
    "Hashset"
   ]
  },
  {
   "cell_type": "code",
   "execution_count": 17,
   "id": "f143580d",
   "metadata": {},
   "outputs": [],
   "source": [
    "mySet = set()"
   ]
  },
  {
   "cell_type": "code",
   "execution_count": 18,
   "id": "2d777e28",
   "metadata": {},
   "outputs": [],
   "source": [
    "mySet.add(19)\n",
    "mySet.add(50)"
   ]
  },
  {
   "cell_type": "code",
   "execution_count": 19,
   "id": "d6c3ddd0",
   "metadata": {},
   "outputs": [
    {
     "name": "stdout",
     "output_type": "stream",
     "text": [
      "{50, 19}\n"
     ]
    }
   ],
   "source": [
    "print(mySet)"
   ]
  },
  {
   "cell_type": "code",
   "execution_count": 21,
   "id": "e4424a39",
   "metadata": {},
   "outputs": [
    {
     "name": "stdout",
     "output_type": "stream",
     "text": [
      "False\n"
     ]
    }
   ],
   "source": [
    "print(1 in mySet)"
   ]
  },
  {
   "cell_type": "code",
   "execution_count": 22,
   "id": "7969ea38",
   "metadata": {},
   "outputs": [
    {
     "name": "stdout",
     "output_type": "stream",
     "text": [
      "True\n"
     ]
    }
   ],
   "source": [
    "print(3 not in mySet)"
   ]
  },
  {
   "cell_type": "code",
   "execution_count": 23,
   "id": "da9f8e22",
   "metadata": {},
   "outputs": [
    {
     "name": "stdout",
     "output_type": "stream",
     "text": [
      "2\n"
     ]
    }
   ],
   "source": [
    "print(len(mySet))"
   ]
  },
  {
   "cell_type": "code",
   "execution_count": 24,
   "id": "f103458b",
   "metadata": {},
   "outputs": [],
   "source": [
    "mySet.remove(19)"
   ]
  },
  {
   "cell_type": "code",
   "execution_count": 25,
   "id": "9bdb24ae",
   "metadata": {},
   "outputs": [
    {
     "name": "stdout",
     "output_type": "stream",
     "text": [
      "{50}\n"
     ]
    }
   ],
   "source": [
    "print(mySet)"
   ]
  },
  {
   "cell_type": "code",
   "execution_count": 26,
   "id": "4015d5dc",
   "metadata": {},
   "outputs": [],
   "source": [
    "mySet.add(100)"
   ]
  },
  {
   "cell_type": "code",
   "execution_count": 27,
   "id": "3ef1f4da",
   "metadata": {},
   "outputs": [
    {
     "name": "stdout",
     "output_type": "stream",
     "text": [
      "{50, 100}\n"
     ]
    }
   ],
   "source": [
    "print(mySet)"
   ]
  },
  {
   "cell_type": "code",
   "execution_count": 28,
   "id": "ba6c53a3",
   "metadata": {},
   "outputs": [
    {
     "name": "stdout",
     "output_type": "stream",
     "text": [
      "{1, 2, 3}\n"
     ]
    }
   ],
   "source": [
    "#list to set\n",
    "print(set([1,2,3]))"
   ]
  },
  {
   "cell_type": "code",
   "execution_count": 31,
   "id": "f296e597",
   "metadata": {},
   "outputs": [],
   "source": [
    "myNS = {i for i in range(5)}   #set comprehension"
   ]
  },
  {
   "cell_type": "code",
   "execution_count": 32,
   "id": "0cbda002",
   "metadata": {},
   "outputs": [
    {
     "name": "stdout",
     "output_type": "stream",
     "text": [
      "{0, 1, 2, 3, 4}\n"
     ]
    }
   ],
   "source": [
    "print(myNS)"
   ]
  },
  {
   "cell_type": "markdown",
   "id": "42186cd2",
   "metadata": {},
   "source": [
    "HashMap"
   ]
  },
  {
   "cell_type": "code",
   "execution_count": 35,
   "id": "577d2262",
   "metadata": {},
   "outputs": [
    {
     "name": "stdout",
     "output_type": "stream",
     "text": [
      "{'cap': 100, 'dollar': 80, 'Euros': 95}\n"
     ]
    }
   ],
   "source": [
    "myMap = {}\n",
    "myMap['cap'] = 100\n",
    "myMap['dollar'] = 80\n",
    "myMap['Euros'] = 95\n",
    "myMap['Euros'] = 95\n",
    "# myMap['Euros'] = 96\n",
    "\n",
    "print(myMap)"
   ]
  },
  {
   "cell_type": "code",
   "execution_count": 36,
   "id": "ce44ceb0",
   "metadata": {},
   "outputs": [
    {
     "name": "stdout",
     "output_type": "stream",
     "text": [
      "3\n"
     ]
    }
   ],
   "source": [
    "print(len(myMap))"
   ]
  },
  {
   "cell_type": "code",
   "execution_count": 38,
   "id": "935a85f4",
   "metadata": {},
   "outputs": [
    {
     "name": "stdout",
     "output_type": "stream",
     "text": [
      "False\n"
     ]
    }
   ],
   "source": [
    "print(\"euros\" in myMap)"
   ]
  },
  {
   "cell_type": "code",
   "execution_count": 39,
   "id": "130278a5",
   "metadata": {},
   "outputs": [
    {
     "data": {
      "text/plain": [
       "100"
      ]
     },
     "execution_count": 39,
     "metadata": {},
     "output_type": "execute_result"
    }
   ],
   "source": [
    "myMap.pop('cap')"
   ]
  },
  {
   "cell_type": "code",
   "execution_count": 40,
   "id": "f375f47c",
   "metadata": {},
   "outputs": [
    {
     "name": "stdout",
     "output_type": "stream",
     "text": [
      "{'dollar': 80, 'Euros': 95}\n"
     ]
    }
   ],
   "source": [
    "print(myMap)"
   ]
  },
  {
   "cell_type": "code",
   "execution_count": 41,
   "id": "9aa6372c",
   "metadata": {},
   "outputs": [
    {
     "name": "stdout",
     "output_type": "stream",
     "text": [
      "dollar\n",
      "Euros\n"
     ]
    }
   ],
   "source": [
    "for key in myMap:\n",
    "    print(key)"
   ]
  },
  {
   "cell_type": "code",
   "execution_count": 42,
   "id": "a81da864",
   "metadata": {},
   "outputs": [
    {
     "name": "stdout",
     "output_type": "stream",
     "text": [
      "80\n",
      "95\n"
     ]
    }
   ],
   "source": [
    "for key in myMap.values():\n",
    "    print(key)"
   ]
  },
  {
   "cell_type": "code",
   "execution_count": 43,
   "id": "0c72c89c",
   "metadata": {},
   "outputs": [
    {
     "name": "stdout",
     "output_type": "stream",
     "text": [
      "dollar 80\n",
      "Euros 95\n"
     ]
    }
   ],
   "source": [
    "for key, val in myMap.items():\n",
    "    print(key, val)"
   ]
  },
  {
   "cell_type": "markdown",
   "id": "e93a7d00",
   "metadata": {},
   "source": [
    "Heaps"
   ]
  },
  {
   "cell_type": "code",
   "execution_count": 44,
   "id": "7804d7df",
   "metadata": {},
   "outputs": [],
   "source": [
    "import heapq"
   ]
  },
  {
   "cell_type": "code",
   "execution_count": 45,
   "id": "3b19f0f9",
   "metadata": {},
   "outputs": [],
   "source": [
    "minheap = []"
   ]
  },
  {
   "cell_type": "code",
   "execution_count": 48,
   "id": "356cb613",
   "metadata": {},
   "outputs": [],
   "source": [
    "#by default heaps are min heap in python\n",
    "heapq.heappush(minheap, 3)\n",
    "heapq.heappush(minheap, 9)\n",
    "heapq.heappush(minheap, 4)\n",
    "heapq.heappush(minheap, 7)"
   ]
  },
  {
   "cell_type": "code",
   "execution_count": 51,
   "id": "7ca26a2c",
   "metadata": {},
   "outputs": [
    {
     "name": "stdout",
     "output_type": "stream",
     "text": [
      "[3, 3, 9, 4, 7]\n"
     ]
    }
   ],
   "source": [
    "print(minheap)"
   ]
  },
  {
   "cell_type": "code",
   "execution_count": 52,
   "id": "997c12db",
   "metadata": {},
   "outputs": [],
   "source": [
    "newheap = []\n",
    "\n",
    "heapq.heappush(newheap, 90)\n",
    "heapq.heappush(newheap, 9)\n",
    "heapq.heappush(newheap, 19)\n",
    "heapq.heappush(newheap, 45)"
   ]
  },
  {
   "cell_type": "code",
   "execution_count": 53,
   "id": "65cac82d",
   "metadata": {},
   "outputs": [
    {
     "name": "stdout",
     "output_type": "stream",
     "text": [
      "[9, 45, 19, 90]\n"
     ]
    }
   ],
   "source": [
    "print(newheap)"
   ]
  },
  {
   "cell_type": "code",
   "execution_count": null,
   "id": "103b4380",
   "metadata": {},
   "outputs": [],
   "source": []
  }
 ],
 "metadata": {
  "kernelspec": {
   "display_name": "Python 3 (ipykernel)",
   "language": "python",
   "name": "python3"
  },
  "language_info": {
   "codemirror_mode": {
    "name": "ipython",
    "version": 3
   },
   "file_extension": ".py",
   "mimetype": "text/x-python",
   "name": "python",
   "nbconvert_exporter": "python",
   "pygments_lexer": "ipython3",
   "version": "3.9.7"
  }
 },
 "nbformat": 4,
 "nbformat_minor": 5
}
